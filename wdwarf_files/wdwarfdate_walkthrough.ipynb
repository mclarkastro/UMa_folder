{
 "cells": [
  {
   "cell_type": "code",
   "execution_count": null,
   "id": "f23e8ddc",
   "metadata": {},
   "outputs": [
    {
     "ename": "ModuleNotFoundError",
     "evalue": "No module named 'wdwarfdate'",
     "output_type": "error",
     "traceback": [
      "\u001b[31m---------------------------------------------------------------------------\u001b[39m",
      "\u001b[31mModuleNotFoundError\u001b[39m                       Traceback (most recent call last)",
      "\u001b[36mCell\u001b[39m\u001b[36m \u001b[39m\u001b[32mIn[1]\u001b[39m\u001b[32m, line 7\u001b[39m\n\u001b[32m      5\u001b[39m \u001b[38;5;28;01mimport\u001b[39;00m\u001b[38;5;250m \u001b[39m\u001b[34;01mscipy\u001b[39;00m\n\u001b[32m      6\u001b[39m \u001b[38;5;28;01mimport\u001b[39;00m\u001b[38;5;250m \u001b[39m\u001b[34;01mpandas\u001b[39;00m\u001b[38;5;250m \u001b[39m\u001b[38;5;28;01mas\u001b[39;00m\u001b[38;5;250m \u001b[39m\u001b[34;01mpd\u001b[39;00m\n\u001b[32m----> \u001b[39m\u001b[32m7\u001b[39m \u001b[38;5;28;01mimport\u001b[39;00m\u001b[38;5;250m \u001b[39m\u001b[34;01mwdwarfdate\u001b[39;00m \u001b[38;5;66;03m#needs to be cloned from github\u001b[39;00m\n",
      "\u001b[31mModuleNotFoundError\u001b[39m: No module named 'wdwarfdate'"
     ]
    }
   ],
   "source": [
    "import os\n",
    "import numpy as np\n",
    "import astropy\n",
    "import matplotlib\n",
    "import scipy\n",
    "import pandas as pd\n",
    "import wdwarfdate as wd #needs to be cloned from github\n"
   ]
  },
  {
   "cell_type": "code",
   "execution_count": 2,
   "id": "5559dee4",
   "metadata": {},
   "outputs": [],
   "source": [
    "os.chdir('/Users/mlclark/Library/CloudStorage/GoogleDrive-mclark.astro@gmail.com/My Drive/UMa/final_uma/wdwarf_files')\n",
    "#change to the final_uma wdwarf_files folder in your directory"
   ]
  },
  {
   "cell_type": "code",
   "execution_count": 3,
   "id": "6f0cb1b3",
   "metadata": {},
   "outputs": [],
   "source": [
    "#these are the 201 wd pm members that were in the vincent 2024 catalog. if doing something else, make sure to replace that file below\n",
    "wd_cands=pd.read_csv('25_6_30_wds_w_ages.csv', dtype={'GaiaID':str}) #ensures your gaia ids don't get turned to scientific notation"
   ]
  },
  {
   "cell_type": "code",
   "execution_count": 4,
   "id": "042d6425",
   "metadata": {},
   "outputs": [],
   "source": [
    "#Getting WD ages\n",
    "#split by da and non-da (specfified in vincent catalog). since the system is young and there are a lot more massive stars, i use the parsec models\n",
    "da_srcs=wd_cands[wd_cands.SpType=='DA'].reset_index(drop=True)\n",
    "nonda_srcs=wd_cands[wd_cands.SpType!='DA'].reset_index(drop=True)"
   ]
  },
  {
   "cell_type": "code",
   "execution_count": null,
   "id": "a4d2e483",
   "metadata": {},
   "outputs": [],
   "source": [
    "WDda = wd.WhiteDwarf(da_srcs.Teff.values,da_srcs.e_Teff.values,da_srcs.logg.values,da_srcs.e_logg.values,\n",
    "                           model_wd='non-DA',feh='p0.00',vvcrit='0.0',\n",
    "                           model_ifmr = 'Cummings_2018_PARSEC',\n",
    "                           high_perc = 84, low_perc = 16,\n",
    "                           datatype='Gyr',\n",
    "                           save_plots=False, display_plots=False)  #i'm going to edit them so I don't want to save/see them so many times or save them\n",
    "WDda.calc_wd_age()"
   ]
  },
  {
   "cell_type": "code",
   "execution_count": null,
   "id": "29b8c36f",
   "metadata": {},
   "outputs": [],
   "source": [
    "WDnon = wd.WhiteDwarf(nonda_srcs.Teff.values,nonda_srcs.e_Teff.values,nonda_srcs.logg.values,nonda_srcs.e_logg.values,\n",
    "                           model_wd='non-DA',feh='p0.00',vvcrit='0.0',\n",
    "                           model_ifmr = 'Cummings_2018_PARSEC',\n",
    "                           high_perc = 84, low_perc = 16,\n",
    "                           datatype='Gyr',\n",
    "                           save_plots=False, display_plots=False)  #i'm going to edit them so I don't want to save/see them so many times or save them\n",
    "WDnon.calc_wd_age()"
   ]
  },
  {
   "cell_type": "code",
   "execution_count": null,
   "id": "8cb11124",
   "metadata": {},
   "outputs": [],
   "source": [
    "da_results=WDda.results.to_pandas()\n",
    "nonda_results=WDnon.results.to_pandas() #this is so you can merge the ages into the other file without writing them in manually"
   ]
  },
  {
   "cell_type": "code",
   "execution_count": null,
   "id": "5432c872",
   "metadata": {},
   "outputs": [],
   "source": [
    "nonda_results['GaiaID']=nonda_srcs['GaiaID'].values  #to be able to merge on gaia ids. as long as you didn't reorder somehow, this should be the right order that's in the results table\n",
    "da_results['GaiaID']=da_srcs['GaiaID'].values"
   ]
  },
  {
   "cell_type": "code",
   "execution_count": null,
   "id": "fb10aca4",
   "metadata": {},
   "outputs": [],
   "source": [
    "wd_nonda_res=pd.merge(nonda_srcs, nonda_results[['GaiaID',\n",
    "       'cooling_age_median', 'cooling_age_err_low', 'cooling_age_err_high',\n",
    "       'total_age_median', 'total_age_err_low', 'total_age_err_high',\n",
    "       'initial_mass_median', 'initial_mass_err_low', 'initial_mass_err_high']], how='left', on='GaiaID')\n",
    "wd_da_res=pd.merge(da_srcs, da_results[['GaiaID',\n",
    "       'cooling_age_median', 'cooling_age_err_low', 'cooling_age_err_high',\n",
    "       'total_age_median', 'total_age_err_low', 'total_age_err_high',\n",
    "       'initial_mass_median', 'initial_mass_err_low', 'initial_mass_err_high']], how='left', on='GaiaID')"
   ]
  },
  {
   "cell_type": "code",
   "execution_count": null,
   "id": "d1a56152",
   "metadata": {},
   "outputs": [],
   "source": [
    "wd_ages=pd.concat([wd_da_res, wd_nonda_res])  #should be the same length as your original file!\n",
    "len(wd_ages)"
   ]
  },
  {
   "cell_type": "code",
   "execution_count": null,
   "id": "54492c74",
   "metadata": {},
   "outputs": [],
   "source": [
    "#save your files!\n",
    "#wd_ages.to_csv('file_name.csv', index=False)"
   ]
  },
  {
   "cell_type": "code",
   "execution_count": null,
   "id": "104dfa1a",
   "metadata": {},
   "outputs": [],
   "source": [
    "joint_da=wd_da_res[(wd_da_res.total_age_median<.750)&((wd_da_res.total_age_median>.300))].reset_index(drop=True)\n",
    "joint_nonda=wd_nonda_res[(wd_nonda_res.total_age_median<.750)&((wd_nonda_res.total_age_median>.300))].reset_index(drop=True)"
   ]
  },
  {
   "cell_type": "code",
   "execution_count": null,
   "id": "1504d36c",
   "metadata": {},
   "outputs": [],
   "source": [
    "data=[] #this is so i can store the age data to edit my plots to be how I want. recommend only doing this for the ones you actually want to edit - ie the ones in an age range of interest. make sure there are no nans in here!! \n",
    "for i in range(len(joint_da)):\n",
    "    WD=wd.WhiteDwarf(joint_da.Teff.values,joint_da.e_Teff.values,joint_da.logg.values,joint_da.e_logg.values,\n",
    "                            model_wd='DA',feh='p0.00',vvcrit='0.0',\n",
    "                            model_ifmr = 'Cummings_2018_PARSEC',\n",
    "                            high_perc = 84, low_perc = 16,\n",
    "                            datatype='Gyr',\n",
    "                            save_plots=False, display_plots=False)  #i'm going to edit them so I don't want to save/see them so many times\n",
    "    WD.calc_wd_age()\n",
    "    results = wd.calc_percentiles(10**WD.log10_tms_sample/1e9,\n",
    "                                    10**WD.log10_tcool_sample/1e9,\n",
    "                                    10**WD.log10_ttot_sample/1e9,\n",
    "                                    WD.mi_sample, WD.mf_sample,\n",
    "                                    WD.high_perc, WD.low_perc)   \n",
    "    data.append(10**WD.log10_ttot_sample/1e9)\n",
    "    print(i)\n",
    "\n",
    "nondanew=[] \n",
    "for i in range(len(joint_nonda)):\n",
    "    WD=wd.WhiteDwarf(joint_nonda.Teff.values,joint_nonda.e_Teff.values,joint_nonda.logg.values,joint_nonda.e_logg.values,\n",
    "                            model_wd='DA',feh='p0.00',vvcrit='0.0',\n",
    "                            model_ifmr = 'Cummings_2018_PARSEC',\n",
    "                            high_perc = 84, low_perc = 16,\n",
    "                            datatype='Gyr',\n",
    "                            save_plots=False, display_plots=False)  #i'm going to edit them so I don't want to save/see them so many times\n",
    "    WD.calc_wd_age()\n",
    "    results = wd.calc_percentiles(10**WD.log10_tms_sample/1e9,\n",
    "                                    10**WD.log10_tcool_sample/1e9,\n",
    "                                    10**WD.log10_ttot_sample/1e9,\n",
    "                                    WD.mi_sample, WD.mf_sample,\n",
    "                                    WD.high_perc, WD.low_perc)   \n",
    "    nondanew.append(10**WD.log10_ttot_sample/1e9)\n",
    "    print(i)\n",
    "\n",
    "data2= np.vstack([data, nondanew])"
   ]
  },
  {
   "cell_type": "code",
   "execution_count": null,
   "id": "ba3f33d9",
   "metadata": {},
   "outputs": [],
   "source": [
    "#this plots the N=17 joint image! (as long as the da_srcs & nonda_srcs have been changed to the not nan, bw 300 & 750 Myr srcs)\n",
    "plt.figure(figsize=(2.93, 2.7))\n",
    "for i in range(len(data2)):\n",
    "    plt.hist(data2[i], bins=20, alpha=0.3, color='#1f77b4')\n",
    "\n",
    "plt.gca().axes.get_yaxis().set_visible(False)\n",
    "plt.xlabel('Total Age (Gyr)')\n",
    "plt.title('N=17')\n",
    "plt.xlim(0.3,.7)\n",
    "plt.show()"
   ]
  },
  {
   "cell_type": "code",
   "execution_count": null,
   "id": "57182ebc",
   "metadata": {},
   "outputs": [],
   "source": [
    "#will have to play around with how to do this... need to save them as the age\n",
    "title = r\"${{{0:.2f}}}_{{-{1:.2f}}}^{{+{2:.2f}}}$\"\n",
    "f, (ax3) = plt.subplots(1, 1, figsize=(3, 3))\n",
    "\n",
    "axs = [ax3]\n",
    "\n",
    "labels = ['Total Age (Gyr)']\n",
    "\n",
    "distributions = [10**WD.log10_ttot_sample/1e9]\n",
    "\n",
    "for ax, label, dist, i, in zip(axs, labels, distributions, np.arange(0, 15, 3)):\n",
    "    ax.hist(dist[~np.isnan(dist)], bins=20)\n",
    "    ax.axvline(x=results[6], color='k')\n",
    "    ax.axvline(x=results[6] - results[6+1], color='k', linestyle='--')\n",
    "    ax.axvline(x=results[6] + results[6+2], color='k', linestyle='--')\n",
    "    ax.set_xlabel(label)\n",
    "    ax.yaxis.set_visible(False)\n",
    "    ax.set_title(title.format(np.round(results[6], 2),\n",
    "                              np.round(results[6+1], 2),\n",
    "                              np.round(results[6+2], 2)))\n",
    "    \n",
    "ax3.set_xlim(0.3, 0.7)\n",
    "plt.tight_layout()\n",
    "plt.show()"
   ]
  }
 ],
 "metadata": {
  "kernelspec": {
   "display_name": "Python 3",
   "language": "python",
   "name": "python3"
  },
  "language_info": {
   "codemirror_mode": {
    "name": "ipython",
    "version": 3
   },
   "file_extension": ".py",
   "mimetype": "text/x-python",
   "name": "python",
   "nbconvert_exporter": "python",
   "pygments_lexer": "ipython3",
   "version": "3.13.5"
  }
 },
 "nbformat": 4,
 "nbformat_minor": 5
}
