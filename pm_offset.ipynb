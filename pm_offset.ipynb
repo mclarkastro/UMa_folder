{
 "cells": [
  {
   "cell_type": "code",
   "execution_count": null,
   "id": "8c8c5140",
   "metadata": {},
   "outputs": [],
   "source": [
    "import astropy.units as u\n",
    "import os\n",
    "import pandas as pd\n",
    "import galpy.util.coords \n",
    "import galpy\n",
    "import sys\n",
    "sys.modules['galpy.util.bovy_coords'] = galpy.util.coords\n",
    "import math\n",
    "from astropy.coordinates import SkyCoord"
   ]
  },
  {
   "cell_type": "code",
   "execution_count": 5,
   "id": "6e6b5d17",
   "metadata": {},
   "outputs": [],
   "source": [
    "os.chdir('/Users/mlclark/Library/CloudStorage/GoogleDrive-mclark.astro@gmail.com/My Drive/UMa/final_uma/wdwarf_files')"
   ]
  },
  {
   "cell_type": "code",
   "execution_count": null,
   "id": "a804fab3",
   "metadata": {},
   "outputs": [],
   "source": [
    "uma_wd=pd.read_csv('25_6_30_wds_w_ages.csv', dtype={'GaiaID':str}) #whatever sources you want offset errs for\n",
    "r=pd.DataFrame()\n",
    "r['pmdec']=uma_wd.pmdec\n",
    "r['pmdra']=uma_wd.pmra\n",
    "r['dec']=uma_wd.dec\n",
    "r['ra']=uma_wd.ra\n",
    "r['parallax']=uma_wd.parallax"
   ]
  },
  {
   "cell_type": "code",
   "execution_count": null,
   "id": "c134bfb1",
   "metadata": {},
   "outputs": [],
   "source": [
    "#replace with target star info from gaia. this is HD 115043\n",
    "Pcoord = SkyCoord( ra=198.405103929*u.deg , dec= 56.7081841459*u.deg , \\\n",
    "                    distance=(1000.0/39.7437)*u.parsec , frame='icrs' , \\\n",
    "                    radial_velocity=-8.56*u.km/u.s , \\\n",
    "                    pm_ra_cosdec=111.5498*u.mas/u.year , pm_dec=-18.5278*u.mas/u.year )   \n",
    "gaiacoord = SkyCoord( ra=r['ra'].values*u.deg , dec=r['dec'].values*u.deg.to(u.rad)*u.rad , distance=(1000.0/r['parallax'].values)*u.parsec , \\\n",
    "                        frame='icrs' , \\\n",
    "                        pm_ra_cosdec=r['pmra'].values*u.mas/u.year , pm_dec=r['pmdec'].values*u.mas/u.year )\n",
    "sep = gaiacoord.separation(Pcoord)\n",
    "sep3d = gaiacoord.separation_3d(Pcoord)\n",
    "Pllbb     = bc.radec_to_lb(Pcoord.ra.value , Pcoord.dec.value , degree=True)\n",
    "Ppmllpmbb = bc.pmrapmdec_to_pmllpmbb( Pcoord.pm_ra_cosdec.value , Pcoord.pm_dec.value , \\\n",
    "                                         Pcoord.ra.value , Pcoord.dec.value , degree=True )\n",
    "Pvxvyvz   = bc.vrpmllpmbb_to_vxvyvz(Pcoord.radial_velocity.value , Ppmllpmbb[0] , Ppmllpmbb[1] , \\\n",
    "                                   Pllbb[0] , Pllbb[1] , Pcoord.distance.value/1000.0 , XYZ=False , degree=True)\n",
    "Cll = (math.atan2(Pvxvyvz[1],Pvxvyvz[0]) * 180.0/np.pi) % 360\n",
    "Cbb = math.atan2(Pvxvyvz[2],np.sqrt(Pvxvyvz[0]**2+Pvxvyvz[1]**2)) * 180.0/np.pi\n",
    "\n",
    "Cradec = bc.lb_to_radec(Cll,Cbb,degree=True,epoch=2000.0)\n",
    "Ccoord = SkyCoord( ra=Cradec[0]*u.deg , dec=Cradec[1]*u.deg , distance=999999.9 , frame='icrs' )\n",
    "Cangle = gaiacoord.separation(Ccoord)\n",
    "zz = np.where( (Cangle.degree > 90.0) )\n",
    "if (np.array(zz).size > 0): Cangle[zz] = (180.0-Cangle[zz].degree)*u.deg"
   ]
  }
 ],
 "metadata": {
  "kernelspec": {
   "display_name": "Python 3",
   "language": "python",
   "name": "python3"
  },
  "language_info": {
   "codemirror_mode": {
    "name": "ipython",
    "version": 3
   },
   "file_extension": ".py",
   "mimetype": "text/x-python",
   "name": "python",
   "nbconvert_exporter": "python",
   "pygments_lexer": "ipython3",
   "version": "3.13.5"
  }
 },
 "nbformat": 4,
 "nbformat_minor": 5
}
